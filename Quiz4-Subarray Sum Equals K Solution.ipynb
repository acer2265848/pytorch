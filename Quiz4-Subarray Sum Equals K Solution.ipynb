{
 "cells": [
  {
   "cell_type": "markdown",
   "metadata": {},
   "source": [
    "# Given an array of integers and an integer k, you need to find the total number of continuous subarrays whose sum equals to k.\n",
    "\n",
    "Q1-1. 找出一個陣列中有幾個 Subarray 的總和為 k - def subarray_sum_equals_k\n",
    "\n",
    "Q1-2. 找出一個陣列中有幾個 Subarray 中的數值絕對值後總和後為 k - def subarray_sum_abs_equals_k\n"
   ]
  },
  {
   "cell_type": "code",
   "execution_count": 1,
   "metadata": {},
   "outputs": [],
   "source": [
    "def subarray_sum_equals_k(nums, k):\n",
    "    n = len(nums)\n",
    "    count = 0\n",
    "    for i in range(n):\n",
    "        sum_ = 0\n",
    "        for j in range(i, n):\n",
    "            sum_ += nums[j]\n",
    "            if sum_ == k:\n",
    "                count += 1\n",
    "    return count"
   ]
  },
  {
   "cell_type": "code",
   "execution_count": 5,
   "metadata": {},
   "outputs": [
    {
     "data": {
      "text/plain": [
       "[1, 2]"
      ]
     },
     "execution_count": 5,
     "metadata": {},
     "output_type": "execute_result"
    }
   ],
   "source": [
    "nums = [1,2,3]\n",
    "c = [nums[0]]+[nums[1]]\n",
    "c"
   ]
  },
  {
   "cell_type": "code",
   "execution_count": 2,
   "metadata": {},
   "outputs": [],
   "source": [
    "assert subarray_sum_equals_k([1,1,1], 2) == 2"
   ]
  },
  {
   "cell_type": "code",
   "execution_count": 44,
   "metadata": {},
   "outputs": [],
   "source": [
    "assert subarray_sum_equals_k([1, 2, 1, 1, 1, 3], 3) == 4"
   ]
  },
  {
   "cell_type": "code",
   "execution_count": 45,
   "metadata": {},
   "outputs": [],
   "source": [
    "assert subarray_sum_equals_k([1, 0, 2, 2, 5, 5, 1, 3, 4, 5], 4) == 4"
   ]
  },
  {
   "cell_type": "code",
   "execution_count": 46,
   "metadata": {},
   "outputs": [],
   "source": [
    "assert subarray_sum_equals_k([1, 2, 0, 1, 1, 1, 3], 3) == 6"
   ]
  },
  {
   "cell_type": "code",
   "execution_count": 47,
   "metadata": {
    "collapsed": true
   },
   "outputs": [],
   "source": [
    "assert subarray_sum_equals_k([1, 2, 0, -5, 5, 0, 3, 1, 3], 3) == 9"
   ]
  },
  {
   "cell_type": "code",
   "execution_count": 48,
   "metadata": {},
   "outputs": [],
   "source": [
    "assert subarray_sum_equals_k([1, 2, 0, 1, -5, 6, 0, 3, 1, 3], 3) == 6"
   ]
  },
  {
   "cell_type": "code",
   "execution_count": 49,
   "metadata": {
    "collapsed": true
   },
   "outputs": [],
   "source": [
    "def subarray_sum_abs_equals_k(nums, k):\n",
    "    n = len(nums)\n",
    "    count = 0\n",
    "    for i in range(n):\n",
    "        sum_ = 0\n",
    "        for j in range(i, n):\n",
    "            sum_ += abs(nums[j])\n",
    "            if sum_ == k:\n",
    "                count += 1\n",
    "    return count"
   ]
  },
  {
   "cell_type": "code",
   "execution_count": 50,
   "metadata": {},
   "outputs": [],
   "source": [
    "assert subarray_sum_abs_equals_k([1,-1,1], 2) == 2"
   ]
  },
  {
   "cell_type": "code",
   "execution_count": 51,
   "metadata": {
    "collapsed": true
   },
   "outputs": [],
   "source": [
    "assert subarray_sum_abs_equals_k([1,1,1], 2) == 2"
   ]
  },
  {
   "cell_type": "code",
   "execution_count": 52,
   "metadata": {
    "collapsed": true
   },
   "outputs": [],
   "source": [
    "assert subarray_sum_abs_equals_k([1, -2, -1, -1, -1, 3], 3) == 4"
   ]
  },
  {
   "cell_type": "code",
   "execution_count": 53,
   "metadata": {},
   "outputs": [],
   "source": [
    "assert subarray_sum_abs_equals_k([1, 0, -2, -2, -5, 5, 1, -3, -4, 5], 4) == 4"
   ]
  },
  {
   "cell_type": "code",
   "execution_count": 54,
   "metadata": {
    "collapsed": true
   },
   "outputs": [],
   "source": [
    "assert subarray_sum_abs_equals_k([-1, -2, 0, 1, 1, 1, 3], 3) == 6"
   ]
  },
  {
   "cell_type": "code",
   "execution_count": 55,
   "metadata": {},
   "outputs": [],
   "source": [
    "assert subarray_sum_abs_equals_k([-1, -2, 0, -5, 5, 0, 3, 1, 3], 3) == 5"
   ]
  }
 ],
 "metadata": {
  "kernelspec": {
   "display_name": "Python 3",
   "language": "python",
   "name": "python3"
  },
  "language_info": {
   "codemirror_mode": {
    "name": "ipython",
    "version": 3
   },
   "file_extension": ".py",
   "mimetype": "text/x-python",
   "name": "python",
   "nbconvert_exporter": "python",
   "pygments_lexer": "ipython3",
   "version": "3.7.0"
  }
 },
 "nbformat": 4,
 "nbformat_minor": 2
}
