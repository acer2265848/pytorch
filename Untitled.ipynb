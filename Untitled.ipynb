{
 "cells": [
  {
   "cell_type": "code",
   "execution_count": 1,
   "metadata": {},
   "outputs": [],
   "source": [
    "import os\n",
    "import torch\n",
    "import torch.nn as nn\n",
    "from torch.autograd import Variable\n",
    "import torchvision.datasets as dset\n",
    "import torchvision.transforms as transforms\n",
    "import torch.nn.functional as F\n",
    "import torch.optim as optim"
   ]
  },
  {
   "cell_type": "code",
   "execution_count": 2,
   "metadata": {},
   "outputs": [],
   "source": [
    "use_cuda = torch.cuda.is_available()"
   ]
  },
  {
   "cell_type": "code",
   "execution_count": 4,
   "metadata": {},
   "outputs": [
    {
     "name": "stdout",
     "output_type": "stream",
     "text": [
      "Downloading http://yann.lecun.com/exdb/mnist/train-images-idx3-ubyte.gz\n",
      "Downloading http://yann.lecun.com/exdb/mnist/train-labels-idx1-ubyte.gz\n",
      "Downloading http://yann.lecun.com/exdb/mnist/t10k-images-idx3-ubyte.gz\n",
      "Downloading http://yann.lecun.com/exdb/mnist/t10k-labels-idx1-ubyte.gz\n",
      "Processing...\n",
      "Done!\n"
     ]
    }
   ],
   "source": [
    "root = './data'\n",
    "if not os.path.exists(root):\n",
    "    os.mkdir(root)\n",
    "    \n",
    "trans = transforms.Compose([transforms.ToTensor(), transforms.Normalize((0.5,), (1.0,))])\n",
    "# if not exist, download mnist dataset\n",
    "train_set = dset.MNIST(root=root, train=True, transform=trans, download=True)\n",
    "test_set = dset.MNIST(root=root, train=False, transform=trans, download=True)"
   ]
  },
  {
   "cell_type": "code",
   "execution_count": 6,
   "metadata": {},
   "outputs": [
    {
     "name": "stdout",
     "output_type": "stream",
     "text": [
      "==>>> total trainning batch number: 600\n",
      "==>>> total testing batch number: 100\n"
     ]
    }
   ],
   "source": [
    "batch_size = 100\n",
    "\n",
    "train_loader = torch.utils.data.DataLoader(\n",
    "                 dataset=train_set,\n",
    "                 batch_size=batch_size,\n",
    "                 shuffle=True)\n",
    "test_loader = torch.utils.data.DataLoader(\n",
    "                dataset=test_set,\n",
    "                batch_size=batch_size,\n",
    "                shuffle=False)\n",
    "\n",
    "print ('==>>> total trainning batch number: {}'.format(len(train_loader)))\n",
    "print ('==>>> total testing batch number: {}'.format(len(test_loader)))"
   ]
  },
  {
   "cell_type": "code",
   "execution_count": 7,
   "metadata": {},
   "outputs": [],
   "source": [
    "## network\n",
    "class MLPNet(nn.Module):\n",
    "    def __init__(self):\n",
    "        super(MLPNet, self).__init__()\n",
    "        self.fc1 = nn.Linear(28*28, 500)\n",
    "        self.fc2 = nn.Linear(500, 256)\n",
    "        self.fc3 = nn.Linear(256, 10)\n",
    "    def forward(self, x):\n",
    "        x = x.view(-1, 28*28)\n",
    "        x = F.relu(self.fc1(x))\n",
    "        x = F.relu(self.fc2(x))\n",
    "        x = self.fc3(x)\n",
    "        return x\n",
    "    \n",
    "    def name(self):\n",
    "        return \"MLP\""
   ]
  },
  {
   "cell_type": "code",
   "execution_count": 8,
   "metadata": {},
   "outputs": [],
   "source": [
    "class LeNet(nn.Module):\n",
    "    def __init__(self):\n",
    "        super(LeNet, self).__init__()\n",
    "        self.conv1 = nn.Conv2d(1, 20, 5, 1)\n",
    "        self.conv2 = nn.Conv2d(20, 50, 5, 1)\n",
    "        self.fc1 = nn.Linear(4*4*50, 500)\n",
    "        self.fc2 = nn.Linear(500, 10)\n",
    "\n",
    "    def forward(self, x):\n",
    "        x = F.relu(self.conv1(x))\n",
    "        x = F.max_pool2d(x, 2, 2)\n",
    "        x = F.relu(self.conv2(x))\n",
    "        x = F.max_pool2d(x, 2, 2)\n",
    "        x = x.view(-1, 4*4*50)\n",
    "        x = F.relu(self.fc1(x))\n",
    "        x = self.fc2(x)\n",
    "        return x\n",
    "    \n",
    "    def name(self):\n",
    "        return \"LeNet\""
   ]
  },
  {
   "cell_type": "code",
   "execution_count": 9,
   "metadata": {},
   "outputs": [],
   "source": [
    "model = LeNet()\n",
    "\n",
    "if use_cuda:\n",
    "    model = model.cuda()\n",
    "\n",
    "optimizer = optim.SGD(model.parameters(), lr=0.01, momentum=0.9)\n",
    "\n",
    "criterion = nn.CrossEntropyLoss()\n"
   ]
  },
  {
   "cell_type": "code",
   "execution_count": 15,
   "metadata": {},
   "outputs": [
    {
     "name": "stderr",
     "output_type": "stream",
     "text": [
      "c:\\users\\rod\\appdata\\local\\conda\\conda\\envs\\fastai\\lib\\site-packages\\ipykernel_launcher.py:11: UserWarning: invalid index of a 0-dim tensor. This will be an error in PyTorch 0.5. Use tensor.item() to convert a 0-dim tensor to a Python number\n",
      "  # This is added back by InteractiveShellApp.init_path()\n"
     ]
    },
    {
     "name": "stdout",
     "output_type": "stream",
     "text": [
      "==>>> epoch: 0, batch index: 100, train loss: 0.545757\n",
      "==>>> epoch: 0, batch index: 200, train loss: 0.238230\n",
      "==>>> epoch: 0, batch index: 300, train loss: 0.159970\n",
      "==>>> epoch: 0, batch index: 400, train loss: 0.166755\n",
      "==>>> epoch: 0, batch index: 500, train loss: 0.108334\n",
      "==>>> epoch: 0, batch index: 600, train loss: 0.121189\n"
     ]
    },
    {
     "name": "stderr",
     "output_type": "stream",
     "text": [
      "c:\\users\\rod\\appdata\\local\\conda\\conda\\envs\\fastai\\lib\\site-packages\\ipykernel_launcher.py:22: UserWarning: volatile was removed and now has no effect. Use `with torch.no_grad():` instead.\n",
      "c:\\users\\rod\\appdata\\local\\conda\\conda\\envs\\fastai\\lib\\site-packages\\ipykernel_launcher.py:29: UserWarning: invalid index of a 0-dim tensor. This will be an error in PyTorch 0.5. Use tensor.item() to convert a 0-dim tensor to a Python number\n"
     ]
    },
    {
     "name": "stdout",
     "output_type": "stream",
     "text": [
      "==>>> epoch: 0, batch index: 100, test loss: 0.077729, acc: 0.000\n",
      "==>>> epoch: 1, batch index: 100, train loss: 0.084055\n",
      "==>>> epoch: 1, batch index: 200, train loss: 0.084157\n",
      "==>>> epoch: 1, batch index: 300, train loss: 0.071979\n",
      "==>>> epoch: 1, batch index: 400, train loss: 0.057944\n",
      "==>>> epoch: 1, batch index: 500, train loss: 0.061547\n",
      "==>>> epoch: 1, batch index: 600, train loss: 0.062479\n",
      "==>>> epoch: 1, batch index: 100, test loss: 0.049330, acc: 0.000\n",
      "==>>> epoch: 2, batch index: 100, train loss: 0.045359\n",
      "==>>> epoch: 2, batch index: 200, train loss: 0.073266\n",
      "==>>> epoch: 2, batch index: 300, train loss: 0.045085\n",
      "==>>> epoch: 2, batch index: 400, train loss: 0.044912\n",
      "==>>> epoch: 2, batch index: 500, train loss: 0.050063\n",
      "==>>> epoch: 2, batch index: 600, train loss: 0.047057\n",
      "==>>> epoch: 2, batch index: 100, test loss: 0.033245, acc: 0.000\n",
      "==>>> epoch: 3, batch index: 100, train loss: 0.048477\n",
      "==>>> epoch: 3, batch index: 200, train loss: 0.041702\n",
      "==>>> epoch: 3, batch index: 300, train loss: 0.035620\n",
      "==>>> epoch: 3, batch index: 400, train loss: 0.032528\n",
      "==>>> epoch: 3, batch index: 500, train loss: 0.058356\n",
      "==>>> epoch: 3, batch index: 600, train loss: 0.042728\n",
      "==>>> epoch: 3, batch index: 100, test loss: 0.026802, acc: 0.000\n",
      "==>>> epoch: 4, batch index: 100, train loss: 0.032059\n",
      "==>>> epoch: 4, batch index: 200, train loss: 0.027798\n",
      "==>>> epoch: 4, batch index: 300, train loss: 0.040427\n",
      "==>>> epoch: 4, batch index: 400, train loss: 0.030639\n",
      "==>>> epoch: 4, batch index: 500, train loss: 0.031121\n",
      "==>>> epoch: 4, batch index: 600, train loss: 0.042879\n",
      "==>>> epoch: 4, batch index: 100, test loss: 0.022613, acc: 0.000\n",
      "==>>> epoch: 5, batch index: 100, train loss: 0.020783\n",
      "==>>> epoch: 5, batch index: 200, train loss: 0.020623\n",
      "==>>> epoch: 5, batch index: 300, train loss: 0.031556\n",
      "==>>> epoch: 5, batch index: 400, train loss: 0.027731\n",
      "==>>> epoch: 5, batch index: 500, train loss: 0.018438\n",
      "==>>> epoch: 5, batch index: 600, train loss: 0.028462\n",
      "==>>> epoch: 5, batch index: 100, test loss: 0.018389, acc: 0.000\n",
      "==>>> epoch: 6, batch index: 100, train loss: 0.017488\n",
      "==>>> epoch: 6, batch index: 200, train loss: 0.020243\n",
      "==>>> epoch: 6, batch index: 300, train loss: 0.013070\n",
      "==>>> epoch: 6, batch index: 400, train loss: 0.019295\n",
      "==>>> epoch: 6, batch index: 500, train loss: 0.018905\n",
      "==>>> epoch: 6, batch index: 600, train loss: 0.029335\n",
      "==>>> epoch: 6, batch index: 100, test loss: 0.025236, acc: 0.000\n",
      "==>>> epoch: 7, batch index: 100, train loss: 0.015989\n",
      "==>>> epoch: 7, batch index: 200, train loss: 0.016297\n",
      "==>>> epoch: 7, batch index: 300, train loss: 0.022505\n",
      "==>>> epoch: 7, batch index: 400, train loss: 0.011673\n",
      "==>>> epoch: 7, batch index: 500, train loss: 0.022329\n",
      "==>>> epoch: 7, batch index: 600, train loss: 0.019260\n",
      "==>>> epoch: 7, batch index: 100, test loss: 0.010968, acc: 0.000\n",
      "==>>> epoch: 8, batch index: 100, train loss: 0.018910\n",
      "==>>> epoch: 8, batch index: 200, train loss: 0.015602\n",
      "==>>> epoch: 8, batch index: 300, train loss: 0.015020\n",
      "==>>> epoch: 8, batch index: 400, train loss: 0.019049\n",
      "==>>> epoch: 8, batch index: 500, train loss: 0.008102\n",
      "==>>> epoch: 8, batch index: 600, train loss: 0.019004\n",
      "==>>> epoch: 8, batch index: 100, test loss: 0.015883, acc: 0.000\n",
      "==>>> epoch: 9, batch index: 100, train loss: 0.012853\n",
      "==>>> epoch: 9, batch index: 200, train loss: 0.015800\n",
      "==>>> epoch: 9, batch index: 300, train loss: 0.015909\n",
      "==>>> epoch: 9, batch index: 400, train loss: 0.012829\n",
      "==>>> epoch: 9, batch index: 500, train loss: 0.022219\n",
      "==>>> epoch: 9, batch index: 600, train loss: 0.026046\n",
      "==>>> epoch: 9, batch index: 100, test loss: 0.016915, acc: 0.000\n"
     ]
    }
   ],
   "source": [
    "for epoch in range(10):\n",
    "    # trainning\n",
    "    ave_loss = 0\n",
    "    for batch_idx, (x, target) in enumerate(train_loader):\n",
    "        optimizer.zero_grad()\n",
    "        if use_cuda:\n",
    "            x, target = x.cuda(), target.cuda()\n",
    "        x, target = Variable(x), Variable(target)\n",
    "        out = model(x)\n",
    "        loss = criterion(out, target)\n",
    "        ave_loss = ave_loss * 0.9 + loss.data[0] * 0.1\n",
    "        loss.backward()\n",
    "        optimizer.step()\n",
    "        if (batch_idx+1) % 100 == 0 or (batch_idx+1) == len(train_loader):\n",
    "            print ('==>>> epoch: {}, batch index: {}, train loss: {:.6f}'.format(epoch, batch_idx+1, ave_loss))\n",
    "    # testing\n",
    "    correct_cnt, ave_loss = 0, 0\n",
    "    total_cnt = 0\n",
    "    for batch_idx, (x, target) in enumerate(test_loader):\n",
    "        if use_cuda:\n",
    "            x, target = x.cuda(), target.cuda()\n",
    "        x, target = Variable(x, volatile=True), Variable(target, volatile=True)\n",
    "        out = model(x)\n",
    "        loss = criterion(out, target)\n",
    "        _, pred_label = torch.max(out.data, 1)\n",
    "        total_cnt += x.data.size()[0]\n",
    "        correct_cnt += (pred_label == target.data).sum()\n",
    "        # smooth average\n",
    "        ave_loss = ave_loss * 0.9 + loss.data[0] * 0.1\n",
    "        \n",
    "        if(batch_idx+1) % 100 == 0 or (batch_idx+1) == len(test_loader):\n",
    "            print ('==>>> epoch: {}, batch index: {}, test loss: {:.6f}, acc: {:.3f}'.format(epoch, batch_idx+1, ave_loss, correct_cnt * 1.0 / total_cnt))\n",
    "\n",
    "torch.save(model.state_dict(), model.name())"
   ]
  },
  {
   "cell_type": "code",
   "execution_count": 16,
   "metadata": {},
   "outputs": [
    {
     "ename": "NameError",
     "evalue": "name 'ten1' is not defined",
     "output_type": "error",
     "traceback": [
      "\u001b[1;31m----------------------------------------------------------------------\u001b[0m",
      "\u001b[1;31mNameError\u001b[0m                            Traceback (most recent call last)",
      "\u001b[1;32m<ipython-input-16-fabf55c9db16>\u001b[0m in \u001b[0;36m<module>\u001b[1;34m\u001b[0m\n\u001b[1;32m----> 1\u001b[1;33m \u001b[0mten1_cuda\u001b[0m \u001b[1;33m=\u001b[0m \u001b[0mten1\u001b[0m\u001b[1;33m.\u001b[0m\u001b[0mcuda\u001b[0m\u001b[1;33m(\u001b[0m\u001b[1;33m)\u001b[0m\u001b[1;33m\u001b[0m\u001b[1;33m\u001b[0m\u001b[0m\n\u001b[0m",
      "\u001b[1;31mNameError\u001b[0m: name 'ten1' is not defined"
     ]
    }
   ],
   "source": []
  },
  {
   "cell_type": "code",
   "execution_count": 22,
   "metadata": {},
   "outputs": [
    {
     "name": "stdout",
     "output_type": "stream",
     "text": [
      "tensor([0.0000, 0.0000])\n"
     ]
    }
   ],
   "source": [
    "ten1 = torch.FloatTensor(2)\n",
    "print(ten1)"
   ]
  },
  {
   "cell_type": "code",
   "execution_count": 19,
   "metadata": {},
   "outputs": [
    {
     "name": "stdout",
     "output_type": "stream",
     "text": [
      "tensor([0.0000, 0.0000], device='cuda:0')\n"
     ]
    }
   ],
   "source": [
    "ten1_cuda = ten1.cuda()\n",
    "print(ten1_cuda)"
   ]
  },
  {
   "cell_type": "code",
   "execution_count": null,
   "metadata": {},
   "outputs": [],
   "source": []
  }
 ],
 "metadata": {
  "kernelspec": {
   "display_name": "Python 3",
   "language": "python",
   "name": "python3"
  },
  "language_info": {
   "codemirror_mode": {
    "name": "ipython",
    "version": 3
   },
   "file_extension": ".py",
   "mimetype": "text/x-python",
   "name": "python",
   "nbconvert_exporter": "python",
   "pygments_lexer": "ipython3",
   "version": "3.6.7"
  }
 },
 "nbformat": 4,
 "nbformat_minor": 2
}
