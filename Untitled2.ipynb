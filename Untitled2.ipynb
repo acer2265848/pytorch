{
 "cells": [
  {
   "cell_type": "code",
   "execution_count": 3,
   "metadata": {},
   "outputs": [],
   "source": [
    "import numpy as np\n",
    "import torch"
   ]
  },
  {
   "cell_type": "code",
   "execution_count": 4,
   "metadata": {},
   "outputs": [
    {
     "data": {
      "text/plain": [
       "(array([0, 0, 0, 0, 1, 1, 1, 2, 2, 3], dtype=int64),\n",
       " array([0, 1, 2, 3, 1, 2, 3, 2, 3, 3], dtype=int64))"
      ]
     },
     "execution_count": 4,
     "metadata": {},
     "output_type": "execute_result"
    }
   ],
   "source": [
    "iu1 = np.triu_indices(4)\n",
    "iu1"
   ]
  },
  {
   "cell_type": "code",
   "execution_count": 28,
   "metadata": {},
   "outputs": [
    {
     "data": {
      "text/plain": [
       "(array([0, 0, 0, 1, 1, 2], dtype=int64),\n",
       " array([1, 2, 3, 2, 3, 3], dtype=int64))"
      ]
     },
     "execution_count": 28,
     "metadata": {},
     "output_type": "execute_result"
    }
   ],
   "source": [
    "iu2 = np.triu_indices(4, 1)\n",
    "iu2"
   ]
  },
  {
   "cell_type": "code",
   "execution_count": 5,
   "metadata": {},
   "outputs": [
    {
     "data": {
      "text/plain": [
       "array([[ 0,  1,  2,  3],\n",
       "       [ 4,  5,  6,  7],\n",
       "       [ 8,  9, 10, 11],\n",
       "       [12, 13, 14, 15]])"
      ]
     },
     "execution_count": 5,
     "metadata": {},
     "output_type": "execute_result"
    }
   ],
   "source": [
    "a = np.arange(16).reshape(4, 4)\n",
    "a"
   ]
  },
  {
   "cell_type": "code",
   "execution_count": 29,
   "metadata": {},
   "outputs": [
    {
     "data": {
      "text/plain": [
       "array([ 1,  2,  3,  6,  7, 11])"
      ]
     },
     "execution_count": 29,
     "metadata": {},
     "output_type": "execute_result"
    }
   ],
   "source": [
    "a[iu2]"
   ]
  },
  {
   "cell_type": "code",
   "execution_count": 19,
   "metadata": {},
   "outputs": [
    {
     "data": {
      "text/plain": [
       "array([ 4,  8,  9, 12, 13, 14])"
      ]
     },
     "execution_count": 19,
     "metadata": {},
     "output_type": "execute_result"
    }
   ],
   "source": [
    "a[np.tril_indices(4,-1)]"
   ]
  },
  {
   "cell_type": "code",
   "execution_count": 23,
   "metadata": {},
   "outputs": [
    {
     "data": {
      "text/plain": [
       "array([[ 0,  1,  2,  3],\n",
       "       [-1,  5,  6,  7],\n",
       "       [-1, -1, 10, 11],\n",
       "       [-1, -1, -1, 15]])"
      ]
     },
     "execution_count": 23,
     "metadata": {},
     "output_type": "execute_result"
    }
   ],
   "source": [
    "a1= a.copy()\n",
    "a1[np.tril_indices(4,-1)]=-1\n",
    "a1"
   ]
  },
  {
   "cell_type": "code",
   "execution_count": 6,
   "metadata": {},
   "outputs": [
    {
     "data": {
      "text/plain": [
       "array([[ 0.,  0.,  1.,  2.,  3.],\n",
       "       [ 0.,  0.,  5.,  6.,  7.],\n",
       "       [ 4.,  5.,  0., 10., 11.],\n",
       "       [ 8.,  9., 10.,  0., 15.],\n",
       "       [12., 13., 14., 15.,  0.]])"
      ]
     },
     "execution_count": 6,
     "metadata": {},
     "output_type": "execute_result"
    }
   ],
   "source": [
    "a2 = np.zeros((5,5))\n",
    "a2[np.triu_indices(5, 1)] = a[np.triu_indices(4)]\n",
    "a2[np.tril_indices(5, -1)] = a[np.tril_indices(4)]\n",
    "a2"
   ]
  },
  {
   "cell_type": "code",
   "execution_count": 12,
   "metadata": {},
   "outputs": [
    {
     "data": {
      "text/plain": [
       "6"
      ]
     },
     "execution_count": 12,
     "metadata": {},
     "output_type": "execute_result"
    }
   ],
   "source": [
    "len(a2[np.triu_indices(5, 2)])"
   ]
  },
  {
   "cell_type": "code",
   "execution_count": 37,
   "metadata": {},
   "outputs": [
    {
     "data": {
      "text/plain": [
       "10"
      ]
     },
     "execution_count": 37,
     "metadata": {},
     "output_type": "execute_result"
    }
   ],
   "source": [
    "len(a2[np.triu_indices(5, 1)] )\n"
   ]
  },
  {
   "cell_type": "code",
   "execution_count": 41,
   "metadata": {},
   "outputs": [
    {
     "data": {
      "text/plain": [
       "array([ 0.,  0.,  0.,  0.,  5.,  0.,  0.,  0., 10.,  0.,  0.,  0.,  0.,\n",
       "       15.,  0.,  0.,  0.,  0.,  0.])"
      ]
     },
     "execution_count": 41,
     "metadata": {},
     "output_type": "execute_result"
    }
   ],
   "source": [
    "a2[np.tril_indices(5, 1)]"
   ]
  },
  {
   "cell_type": "code",
   "execution_count": 45,
   "metadata": {},
   "outputs": [
    {
     "data": {
      "text/plain": [
       "10"
      ]
     },
     "execution_count": 45,
     "metadata": {},
     "output_type": "execute_result"
    }
   ],
   "source": [
    "len(a2[np.tril_indices(5, -1)])"
   ]
  },
  {
   "cell_type": "code",
   "execution_count": 8,
   "metadata": {},
   "outputs": [
    {
     "data": {
      "text/plain": [
       "tensor([[ 0.,  0.,  1.,  2.,  3.],\n",
       "        [ 0.,  0.,  5.,  6.,  7.],\n",
       "        [ 4.,  5.,  0., 10., 11.],\n",
       "        [ 8.,  9., 10.,  0., 15.],\n",
       "        [12., 13., 14., 15.,  0.]], dtype=torch.float64)"
      ]
     },
     "execution_count": 8,
     "metadata": {},
     "output_type": "execute_result"
    }
   ],
   "source": [
    "a3 = torch.from_numpy(a2)\n",
    "a3"
   ]
  },
  {
   "cell_type": "code",
   "execution_count": 9,
   "metadata": {},
   "outputs": [
    {
     "data": {
      "text/plain": [
       "tensor([[ 0.,  0.,  1.,  2.],\n",
       "        [ 3.,  0.,  0.,  5.],\n",
       "        [ 6.,  7.,  4.,  5.],\n",
       "        [ 0., 10., 11.,  8.]], dtype=torch.float64)"
      ]
     },
     "execution_count": 9,
     "metadata": {},
     "output_type": "execute_result"
    }
   ],
   "source": [
    "a3.resize_((4,4))"
   ]
  },
  {
   "cell_type": "code",
   "execution_count": 13,
   "metadata": {},
   "outputs": [],
   "source": [
    "import pandas as pd\n",
    "import random \n",
    "import numpy as np"
   ]
  },
  {
   "cell_type": "code",
   "execution_count": 28,
   "metadata": {},
   "outputs": [
    {
     "name": "stdout",
     "output_type": "stream",
     "text": [
      "df_normal: 1067.0\n",
      "df_abnormal: 127.0\n"
     ]
    },
    {
     "data": {
      "text/html": [
       "<div>\n",
       "<style scoped>\n",
       "    .dataframe tbody tr th:only-of-type {\n",
       "        vertical-align: middle;\n",
       "    }\n",
       "\n",
       "    .dataframe tbody tr th {\n",
       "        vertical-align: top;\n",
       "    }\n",
       "\n",
       "    .dataframe thead th {\n",
       "        text-align: right;\n",
       "    }\n",
       "</style>\n",
       "<table border=\"1\" class=\"dataframe\">\n",
       "  <thead>\n",
       "    <tr style=\"text-align: right;\">\n",
       "      <th></th>\n",
       "      <th>batch</th>\n",
       "      <th>sensor</th>\n",
       "      <th>value</th>\n",
       "      <th>status</th>\n",
       "    </tr>\n",
       "  </thead>\n",
       "  <tbody>\n",
       "    <tr>\n",
       "      <th>0</th>\n",
       "      <td>167713</td>\n",
       "      <td>12</td>\n",
       "      <td>[0.09765625, 0.09765625, 0.09765625, 0.0976562...</td>\n",
       "      <td>normal</td>\n",
       "    </tr>\n",
       "    <tr>\n",
       "      <th>1</th>\n",
       "      <td>171115</td>\n",
       "      <td>6</td>\n",
       "      <td>[0.0, 0.1636661211, 0.1636661211, 0.1636661211...</td>\n",
       "      <td>normal</td>\n",
       "    </tr>\n",
       "    <tr>\n",
       "      <th>10</th>\n",
       "      <td>155624</td>\n",
       "      <td>12</td>\n",
       "      <td>[0.0, 0.10362694300000001, 0.0, 0.0, 0.0, 0.0,...</td>\n",
       "      <td>normal</td>\n",
       "    </tr>\n",
       "    <tr>\n",
       "      <th>1000</th>\n",
       "      <td>157309</td>\n",
       "      <td>6</td>\n",
       "      <td>[0.1644736842, 0.1644736842, 0.1644736842, 0.1...</td>\n",
       "      <td>normal</td>\n",
       "    </tr>\n",
       "    <tr>\n",
       "      <th>1002</th>\n",
       "      <td>182510</td>\n",
       "      <td>12</td>\n",
       "      <td>[0.0954198473, 0.0954198473, 0.0954198473, 0.0...</td>\n",
       "      <td>normal</td>\n",
       "    </tr>\n",
       "  </tbody>\n",
       "</table>\n",
       "</div>"
      ],
      "text/plain": [
       "       batch  sensor                                              value  \\\n",
       "0     167713      12  [0.09765625, 0.09765625, 0.09765625, 0.0976562...   \n",
       "1     171115       6  [0.0, 0.1636661211, 0.1636661211, 0.1636661211...   \n",
       "10    155624      12  [0.0, 0.10362694300000001, 0.0, 0.0, 0.0, 0.0,...   \n",
       "1000  157309       6  [0.1644736842, 0.1644736842, 0.1644736842, 0.1...   \n",
       "1002  182510      12  [0.0954198473, 0.0954198473, 0.0954198473, 0.0...   \n",
       "\n",
       "      status  \n",
       "0     normal  \n",
       "1     normal  \n",
       "10    normal  \n",
       "1000  normal  \n",
       "1002  normal  "
      ]
     },
     "execution_count": 28,
     "metadata": {},
     "output_type": "execute_result"
    }
   ],
   "source": [
    "np.random.seed(1)\n",
    "df_normal = pd.read_json(\"wafer_normal.json\")\n",
    "df_abnormal = pd.read_json(\"wafer_abnormal.json\")\n",
    "print(\"df_normal:\",len(df_normal.sensor)/6)\n",
    "print(\"df_abnormal:\",len(df_abnormal.sensor)/6)\n",
    "df_normal.head()"
   ]
  },
  {
   "cell_type": "code",
   "execution_count": 20,
   "metadata": {},
   "outputs": [
    {
     "data": {
      "text/plain": [
       "(747,)"
      ]
     },
     "execution_count": 20,
     "metadata": {},
     "output_type": "execute_result"
    }
   ],
   "source": [
    "np.random.seed(1)\n",
    "normal_train =np.random.choice(df_normal.batch.unique(),747,replace=False)\n",
    "abnormal_train =np.random.choice(df_abnormal.batch.unique(),89,replace=False)\n",
    "\n",
    "normal_train.shape"
   ]
  },
  {
   "cell_type": "code",
   "execution_count": 32,
   "metadata": {},
   "outputs": [
    {
     "name": "stdout",
     "output_type": "stream",
     "text": [
      "df_normal_train: 747.0\n"
     ]
    },
    {
     "data": {
      "text/html": [
       "<div>\n",
       "<style scoped>\n",
       "    .dataframe tbody tr th:only-of-type {\n",
       "        vertical-align: middle;\n",
       "    }\n",
       "\n",
       "    .dataframe tbody tr th {\n",
       "        vertical-align: top;\n",
       "    }\n",
       "\n",
       "    .dataframe thead th {\n",
       "        text-align: right;\n",
       "    }\n",
       "</style>\n",
       "<table border=\"1\" class=\"dataframe\">\n",
       "  <thead>\n",
       "    <tr style=\"text-align: right;\">\n",
       "      <th></th>\n",
       "      <th>batch</th>\n",
       "      <th>sensor</th>\n",
       "      <th>value</th>\n",
       "      <th>status</th>\n",
       "    </tr>\n",
       "  </thead>\n",
       "  <tbody>\n",
       "    <tr>\n",
       "      <th>0</th>\n",
       "      <td>167713</td>\n",
       "      <td>12</td>\n",
       "      <td>[0.09765625, 0.09765625, 0.09765625, 0.0976562...</td>\n",
       "      <td>normal</td>\n",
       "    </tr>\n",
       "    <tr>\n",
       "      <th>1</th>\n",
       "      <td>171115</td>\n",
       "      <td>6</td>\n",
       "      <td>[0.0, 0.1636661211, 0.1636661211, 0.1636661211...</td>\n",
       "      <td>normal</td>\n",
       "    </tr>\n",
       "    <tr>\n",
       "      <th>10</th>\n",
       "      <td>155624</td>\n",
       "      <td>12</td>\n",
       "      <td>[0.0, 0.10362694300000001, 0.0, 0.0, 0.0, 0.0,...</td>\n",
       "      <td>normal</td>\n",
       "    </tr>\n",
       "    <tr>\n",
       "      <th>1000</th>\n",
       "      <td>157309</td>\n",
       "      <td>6</td>\n",
       "      <td>[0.1644736842, 0.1644736842, 0.1644736842, 0.1...</td>\n",
       "      <td>normal</td>\n",
       "    </tr>\n",
       "    <tr>\n",
       "      <th>1002</th>\n",
       "      <td>182510</td>\n",
       "      <td>12</td>\n",
       "      <td>[0.0954198473, 0.0954198473, 0.0954198473, 0.0...</td>\n",
       "      <td>normal</td>\n",
       "    </tr>\n",
       "  </tbody>\n",
       "</table>\n",
       "</div>"
      ],
      "text/plain": [
       "       batch  sensor                                              value  \\\n",
       "0     167713      12  [0.09765625, 0.09765625, 0.09765625, 0.0976562...   \n",
       "1     171115       6  [0.0, 0.1636661211, 0.1636661211, 0.1636661211...   \n",
       "10    155624      12  [0.0, 0.10362694300000001, 0.0, 0.0, 0.0, 0.0,...   \n",
       "1000  157309       6  [0.1644736842, 0.1644736842, 0.1644736842, 0.1...   \n",
       "1002  182510      12  [0.0954198473, 0.0954198473, 0.0954198473, 0.0...   \n",
       "\n",
       "      status  \n",
       "0     normal  \n",
       "1     normal  \n",
       "10    normal  \n",
       "1000  normal  \n",
       "1002  normal  "
      ]
     },
     "execution_count": 32,
     "metadata": {},
     "output_type": "execute_result"
    }
   ],
   "source": [
    "df_normal_train=df_normal[df_normal.batch.isin(normal_train)]\n",
    "print(\"df_normal_train:\",len(df_normal_train.sensor)/6)\n",
    "df_normal_train.head()"
   ]
  },
  {
   "cell_type": "code",
   "execution_count": 33,
   "metadata": {},
   "outputs": [
    {
     "name": "stdout",
     "output_type": "stream",
     "text": [
      "df_normal_left: 320.0\n"
     ]
    },
    {
     "data": {
      "text/html": [
       "<div>\n",
       "<style scoped>\n",
       "    .dataframe tbody tr th:only-of-type {\n",
       "        vertical-align: middle;\n",
       "    }\n",
       "\n",
       "    .dataframe tbody tr th {\n",
       "        vertical-align: top;\n",
       "    }\n",
       "\n",
       "    .dataframe thead th {\n",
       "        text-align: right;\n",
       "    }\n",
       "</style>\n",
       "<table border=\"1\" class=\"dataframe\">\n",
       "  <thead>\n",
       "    <tr style=\"text-align: right;\">\n",
       "      <th></th>\n",
       "      <th>batch</th>\n",
       "      <th>sensor</th>\n",
       "      <th>value</th>\n",
       "      <th>status</th>\n",
       "    </tr>\n",
       "  </thead>\n",
       "  <tbody>\n",
       "    <tr>\n",
       "      <th>1008</th>\n",
       "      <td>172002</td>\n",
       "      <td>15</td>\n",
       "      <td>[78.1690140845, 78.1690140845, 78.1690140845, ...</td>\n",
       "      <td>normal</td>\n",
       "    </tr>\n",
       "    <tr>\n",
       "      <th>1013</th>\n",
       "      <td>171104</td>\n",
       "      <td>12</td>\n",
       "      <td>[0.0952380952, 0.0952380952, 0.0952380952, 0.0...</td>\n",
       "      <td>normal</td>\n",
       "    </tr>\n",
       "    <tr>\n",
       "      <th>1019</th>\n",
       "      <td>166613</td>\n",
       "      <td>12</td>\n",
       "      <td>[0.0979431929, 0.0979431929, 0.0, 0.0979431929...</td>\n",
       "      <td>normal</td>\n",
       "    </tr>\n",
       "    <tr>\n",
       "      <th>1020</th>\n",
       "      <td>172206</td>\n",
       "      <td>8</td>\n",
       "      <td>[1.0660106601, 0.4100041, 0.12300123, 0.123001...</td>\n",
       "      <td>normal</td>\n",
       "    </tr>\n",
       "    <tr>\n",
       "      <th>1022</th>\n",
       "      <td>158106</td>\n",
       "      <td>8</td>\n",
       "      <td>[2.6005688744, 0.7720438846000001, 0.284437220...</td>\n",
       "      <td>normal</td>\n",
       "    </tr>\n",
       "  </tbody>\n",
       "</table>\n",
       "</div>"
      ],
      "text/plain": [
       "       batch  sensor                                              value  \\\n",
       "1008  172002      15  [78.1690140845, 78.1690140845, 78.1690140845, ...   \n",
       "1013  171104      12  [0.0952380952, 0.0952380952, 0.0952380952, 0.0...   \n",
       "1019  166613      12  [0.0979431929, 0.0979431929, 0.0, 0.0979431929...   \n",
       "1020  172206       8  [1.0660106601, 0.4100041, 0.12300123, 0.123001...   \n",
       "1022  158106       8  [2.6005688744, 0.7720438846000001, 0.284437220...   \n",
       "\n",
       "      status  \n",
       "1008  normal  \n",
       "1013  normal  \n",
       "1019  normal  \n",
       "1020  normal  \n",
       "1022  normal  "
      ]
     },
     "execution_count": 33,
     "metadata": {},
     "output_type": "execute_result"
    }
   ],
   "source": [
    "df_normal_left=df_normal[~df_normal.batch.isin(normal_train)]\n",
    "print(\"df_normal_left:\",len(df_normal_left.sensor)/6)\n",
    "df_normal_left.head()"
   ]
  },
  {
   "cell_type": "code",
   "execution_count": 34,
   "metadata": {},
   "outputs": [
    {
     "name": "stdout",
     "output_type": "stream",
     "text": [
      "df_normal_test: 160.0\n"
     ]
    }
   ],
   "source": [
    "normal_validation =np.random.choice(df_normal_left.batch.unique(),160,replace=False)\n",
    "df_normal_validation=df_normal_left[df_normal_left.batch.isin(normal_validation)]\n",
    "df_normal_test=df_normal_left[~df_normal_left.batch.isin(normal_validation)]\n",
    "print(\"df_normal_test:\",len(df_normal_test.sensor)/6)"
   ]
  },
  {
   "cell_type": "code",
   "execution_count": null,
   "metadata": {},
   "outputs": [],
   "source": [
    "df_abnormal_train=df_abnormal[df_abnormal.batch.isin(abnormal_train)]\n",
    "df_abnormal_left=df_abnormal[~df_abnormal.batch.isin(abnormal_train)]\n",
    "abnormal_validation =np.random.choice(df_abnormal_left.batch.unique(),19,replace=False)\n",
    "df_abnormal_validation=df_abnormal_left[df_abnormal_left.batch.isin(abnormal_validation)]\n",
    "df_abnormal_test=df_abnormal_left[~df_abnormal_left.batch.isin(abnormal_validation)]"
   ]
  }
 ],
 "metadata": {
  "kernelspec": {
   "display_name": "Python 3",
   "language": "python",
   "name": "python3"
  },
  "language_info": {
   "codemirror_mode": {
    "name": "ipython",
    "version": 3
   },
   "file_extension": ".py",
   "mimetype": "text/x-python",
   "name": "python",
   "nbconvert_exporter": "python",
   "pygments_lexer": "ipython3",
   "version": "3.7.0"
  }
 },
 "nbformat": 4,
 "nbformat_minor": 2
}
